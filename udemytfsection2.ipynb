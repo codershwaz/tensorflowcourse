{
  "nbformat": 4,
  "nbformat_minor": 0,
  "metadata": {
    "colab": {
      "provenance": [],
      "authorship_tag": "ABX9TyPXXjqea7WQdYIuy98c0R5p",
      "include_colab_link": true
    },
    "kernelspec": {
      "name": "python3",
      "display_name": "Python 3"
    },
    "language_info": {
      "name": "python"
    }
  },
  "cells": [
    {
      "cell_type": "markdown",
      "metadata": {
        "id": "view-in-github",
        "colab_type": "text"
      },
      "source": [
        "<a href=\"https://colab.research.google.com/github/codershwaz/tensorflowcourse/blob/main/udemytfsection2.ipynb\" target=\"_parent\"><img src=\"https://colab.research.google.com/assets/colab-badge.svg\" alt=\"Open In Colab\"/></a>"
      ]
    },
    {
      "cell_type": "code",
      "execution_count": 1,
      "metadata": {
        "id": "OMzelkb1bTMZ"
      },
      "outputs": [],
      "source": [
        "import tensorflow as tf\n",
        "import numpy as np"
      ]
    },
    {
      "cell_type": "code",
      "source": [
        "eye_tensor = tf.eye(\n",
        "    num_rows=3,\n",
        "    num_columns=None,\n",
        "    batch_shape=[3,],\n",
        "    dtype=tf.int64,\n",
        "    name=None\n",
        ")"
      ],
      "metadata": {
        "id": "K9Y6yAZgZGDO"
      },
      "execution_count": 12,
      "outputs": []
    },
    {
      "cell_type": "code",
      "source": [
        "eye_tensor"
      ],
      "metadata": {
        "colab": {
          "base_uri": "https://localhost:8080/"
        },
        "id": "xTpvkx0EZq6m",
        "outputId": "a9845e2d-a915-4802-e18c-748124c3bcca"
      },
      "execution_count": 13,
      "outputs": [
        {
          "output_type": "execute_result",
          "data": {
            "text/plain": [
              "<tf.Tensor: shape=(3, 3, 3), dtype=int64, numpy=\n",
              "array([[[1, 0, 0],\n",
              "        [0, 1, 0],\n",
              "        [0, 0, 1]],\n",
              "\n",
              "       [[1, 0, 0],\n",
              "        [0, 1, 0],\n",
              "        [0, 0, 1]],\n",
              "\n",
              "       [[1, 0, 0],\n",
              "        [0, 1, 0],\n",
              "        [0, 0, 1]]])>"
            ]
          },
          "metadata": {},
          "execution_count": 13
        }
      ]
    },
    {
      "cell_type": "code",
      "source": [
        "fill_tensor = tf.fill([2,2,4], 5, name=None)\n",
        "print(fill_tensor)"
      ],
      "metadata": {
        "colab": {
          "base_uri": "https://localhost:8080/"
        },
        "id": "iwIwchgTZveW",
        "outputId": "66120ccb-399e-4ffe-9593-0563334bcee7"
      },
      "execution_count": 16,
      "outputs": [
        {
          "output_type": "stream",
          "name": "stdout",
          "text": [
            "tf.Tensor(\n",
            "[[[5 5 5 5]\n",
            "  [5 5 5 5]]\n",
            "\n",
            " [[5 5 5 5]\n",
            "  [5 5 5 5]]], shape=(2, 2, 4), dtype=int32)\n"
          ]
        }
      ]
    },
    {
      "cell_type": "code",
      "source": [
        "ones_tensor = tf.ones(\n",
        "    [1,2,3], dtype=tf.dtypes.float32, name=None\n",
        ")\n",
        "print(ones_tensor)"
      ],
      "metadata": {
        "id": "tTlVem1nfWDg",
        "outputId": "728dfb46-4c85-4045-f309-ade14a0f04f0",
        "colab": {
          "base_uri": "https://localhost:8080/"
        }
      },
      "execution_count": 17,
      "outputs": [
        {
          "output_type": "stream",
          "name": "stdout",
          "text": [
            "tf.Tensor(\n",
            "[[[1. 1. 1.]\n",
            "  [1. 1. 1.]]], shape=(1, 2, 3), dtype=float32)\n"
          ]
        }
      ]
    },
    {
      "cell_type": "code",
      "source": [
        "tf.ones_like(fill_tensor)"
      ],
      "metadata": {
        "id": "IXTh9aE7geDZ",
        "outputId": "7a81be78-fc26-4302-c037-37157e2d6212",
        "colab": {
          "base_uri": "https://localhost:8080/"
        }
      },
      "execution_count": 18,
      "outputs": [
        {
          "output_type": "execute_result",
          "data": {
            "text/plain": [
              "<tf.Tensor: shape=(2, 2, 4), dtype=int32, numpy=\n",
              "array([[[1, 1, 1, 1],\n",
              "        [1, 1, 1, 1]],\n",
              "\n",
              "       [[1, 1, 1, 1],\n",
              "        [1, 1, 1, 1]]], dtype=int32)>"
            ]
          },
          "metadata": {},
          "execution_count": 18
        }
      ]
    },
    {
      "cell_type": "code",
      "source": [
        "random_normal = tf.random.normal(\n",
        "    [4,3,2],\n",
        "    mean=100.0,\n",
        "    stddev=1.0,\n",
        "    dtype=tf.dtypes.float32,\n",
        "    seed=None,\n",
        "    name=None\n",
        ")\n",
        "\n",
        "print(random_normal)"
      ],
      "metadata": {
        "id": "Yjj3CJnWjbfh",
        "outputId": "d9a4e179-096f-427e-f4a4-87032296a6bf",
        "colab": {
          "base_uri": "https://localhost:8080/"
        }
      },
      "execution_count": 22,
      "outputs": [
        {
          "output_type": "stream",
          "name": "stdout",
          "text": [
            "tf.Tensor(\n",
            "[[[101.45906   99.595825]\n",
            "  [100.74362   98.5795  ]\n",
            "  [ 98.2839   100.69095 ]]\n",
            "\n",
            " [[100.42473   98.24369 ]\n",
            "  [ 99.41094  101.05729 ]\n",
            "  [ 99.216385 102.5174  ]]\n",
            "\n",
            " [[ 99.34374  100.149956]\n",
            "  [100.07729   99.25638 ]\n",
            "  [ 98.28384  100.72565 ]]\n",
            "\n",
            " [[100.5338   102.36091 ]\n",
            "  [ 98.31852   99.85079 ]\n",
            "  [ 98.97594  101.64603 ]]], shape=(4, 3, 2), dtype=float32)\n"
          ]
        }
      ]
    },
    {
      "cell_type": "code",
      "source": [
        "random_uniform = tf.random.uniform(\n",
        "    [1,10,10],\n",
        "    minval=0.0,\n",
        "    maxval=10,\n",
        "    dtype = tf.dtypes.float32,\n",
        "    seed=None,\n",
        "    name=None\n",
        ")\n",
        "\n",
        "print(random_uniform)"
      ],
      "metadata": {
        "id": "0GJvn-bvpFcG",
        "outputId": "ee0013eb-b3fe-4f1e-ec95-e285960e355e",
        "colab": {
          "base_uri": "https://localhost:8080/"
        }
      },
      "execution_count": 23,
      "outputs": [
        {
          "output_type": "stream",
          "name": "stdout",
          "text": [
            "tf.Tensor(\n",
            "[[[8.705248   8.037423   5.0264716  8.659077   6.2036824  1.3452423\n",
            "   9.123821   2.0979     2.8228903  8.491621  ]\n",
            "  [9.194407   1.4772034  8.447213   6.404772   5.474632   7.911249\n",
            "   4.2513647  9.82368    6.4460897  0.31682968]\n",
            "  [2.0065331  7.246988   0.47390103 6.9054356  4.7880125  4.596424\n",
            "   2.8702843  7.3205843  1.3986063  0.43789268]\n",
            "  [4.095869   0.36989093 1.7410338  5.032921   4.7529626  9.191371\n",
            "   5.976813   2.658677   5.639633   3.6122859 ]\n",
            "  [1.4633107  8.727127   3.003714   2.0087755  5.378996   1.8516374\n",
            "   8.473329   6.2375546  5.146202   2.413981  ]\n",
            "  [5.5299425  6.8119645  8.00738    6.6239476  4.951279   3.462453\n",
            "   4.1687307  2.5777352  2.649827   7.8668747 ]\n",
            "  [8.187776   9.661378   5.5863485  7.6587057  5.734067   3.778044\n",
            "   4.4672165  8.266927   0.6474912  7.5968637 ]\n",
            "  [6.5818396  9.83415    7.2243214  5.0313807  9.933247   6.6578746\n",
            "   5.0783978  5.6058884  9.372215   9.064346  ]\n",
            "  [6.782604   6.4167595  4.0465045  3.7421572  7.9065456  1.0716236\n",
            "   3.7070966  6.583334   8.640604   6.84873   ]\n",
            "  [8.018211   5.233612   9.65087    4.659814   4.4617405  9.164386\n",
            "   6.4338636  8.823414   1.3779509  5.0632405 ]]], shape=(1, 10, 10), dtype=float32)\n"
          ]
        }
      ]
    },
    {
      "cell_type": "code",
      "source": [],
      "metadata": {
        "id": "qJ_mbXv4rEGg"
      },
      "execution_count": null,
      "outputs": []
    }
  ]
}