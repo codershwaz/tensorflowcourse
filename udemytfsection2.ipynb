{
  "nbformat": 4,
  "nbformat_minor": 0,
  "metadata": {
    "colab": {
      "provenance": [],
      "authorship_tag": "ABX9TyO/bbOSBamCLlYgPHRzkSvm",
      "include_colab_link": true
    },
    "kernelspec": {
      "name": "python3",
      "display_name": "Python 3"
    },
    "language_info": {
      "name": "python"
    }
  },
  "cells": [
    {
      "cell_type": "markdown",
      "metadata": {
        "id": "view-in-github",
        "colab_type": "text"
      },
      "source": [
        "<a href=\"https://colab.research.google.com/github/codershwaz/tensorflowcourse/blob/main/udemytfsection2.ipynb\" target=\"_parent\"><img src=\"https://colab.research.google.com/assets/colab-badge.svg\" alt=\"Open In Colab\"/></a>"
      ]
    },
    {
      "cell_type": "code",
      "execution_count": 1,
      "metadata": {
        "id": "OMzelkb1bTMZ"
      },
      "outputs": [],
      "source": [
        "import tensorflow as tf\n",
        "import numpy as np"
      ]
    },
    {
      "cell_type": "code",
      "source": [
        "eye_tensor = tf.eye(\n",
        "    num_rows=3,\n",
        "    num_columns=None,\n",
        "    batch_shape=[3,],\n",
        "    dtype=tf.int64,\n",
        "    name=None\n",
        ")"
      ],
      "metadata": {
        "id": "K9Y6yAZgZGDO"
      },
      "execution_count": 12,
      "outputs": []
    },
    {
      "cell_type": "code",
      "source": [
        "eye_tensor"
      ],
      "metadata": {
        "id": "xTpvkx0EZq6m",
        "outputId": "a9845e2d-a915-4802-e18c-748124c3bcca",
        "colab": {
          "base_uri": "https://localhost:8080/"
        }
      },
      "execution_count": 13,
      "outputs": [
        {
          "output_type": "execute_result",
          "data": {
            "text/plain": [
              "<tf.Tensor: shape=(3, 3, 3), dtype=int64, numpy=\n",
              "array([[[1, 0, 0],\n",
              "        [0, 1, 0],\n",
              "        [0, 0, 1]],\n",
              "\n",
              "       [[1, 0, 0],\n",
              "        [0, 1, 0],\n",
              "        [0, 0, 1]],\n",
              "\n",
              "       [[1, 0, 0],\n",
              "        [0, 1, 0],\n",
              "        [0, 0, 1]]])>"
            ]
          },
          "metadata": {},
          "execution_count": 13
        }
      ]
    },
    {
      "cell_type": "code",
      "source": [],
      "metadata": {
        "id": "iwIwchgTZveW"
      },
      "execution_count": null,
      "outputs": []
    }
  ]
}